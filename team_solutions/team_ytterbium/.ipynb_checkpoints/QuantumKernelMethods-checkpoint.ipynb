{
 "cells": [
  {
   "cell_type": "markdown",
   "id": "43b87e0e",
   "metadata": {},
   "source": [
    "# Quantum Kernel Methods for Classification using Covalent\n",
    "\n",
    "#### Referenced Tutorials\n",
    "1. https://covalent.readthedocs.io/en/latest/tutorials/1_QuantumMachineLearning/classical_quantum_svm/source.html\n",
    "2. https://covalent.readthedocs.io/en/latest/tutorials/1_QuantumMachineLearning/quantum_embedding_kernel/source.html"
   ]
  },
  {
   "cell_type": "code",
   "execution_count": 4,
   "id": "fb337f06",
   "metadata": {},
   "outputs": [],
   "source": [
    "import os\n",
    "\n",
    "# Import Workflow Manager (Covalent)\n",
    "import covalent as ct\n",
    "\n",
    "# Import plotting library\n",
    "import matplotlib.pyplot as plt\n",
    "\n",
    "# Set global plot background color\n",
    "plt.rcParams[\"figure.facecolor\"] = \"w\"\n",
    "\n",
    "# Import for SVM classifier\n",
    "from sklearn.svm import SVC\n",
    "\n",
    "# Imports for dataset and model selection\n",
    "from sklearn import datasets\n",
    "from sklearn.model_selection import train_test_split\n",
    "from sklearn.metrics import ConfusionMatrixDisplay, confusion_matrix\n",
    "\n",
    "# Imports for QSVC classifier\n",
    "from qiskit import BasicAer\n",
    "from qiskit.circuit.library import ZZFeatureMap\n",
    "from qiskit.utils import QuantumInstance, algorithm_globals\n",
    "from qiskit_machine_learning.kernels import QuantumKernel\n",
    "\n",
    "# Set the random seed for QSVC\n",
    "seed = 12345\n",
    "algorithm_globals.random_seed = seed\n"
   ]
  },
  {
   "cell_type": "code",
   "execution_count": null,
   "id": "ec869042",
   "metadata": {},
   "outputs": [],
   "source": [
    "# Ancillary functions for SVM classifiers\n",
    "@ct.electron\n",
    "def get_data():\n",
    "    \n",
    "    return X, y\n",
    "\n",
    "\n",
    "@ct.electron\n",
    "def split_train_test(X, y):\n",
    "    X_train, X_test, y_train, y_test = train_test_split(X, y, test_size=0.25, random_state=0)\n",
    "    return X_train, X_test, y_train, y_test\n",
    "\n",
    "\n",
    "@ct.electron\n",
    "def train_svc(X_train, y_train):\n",
    "    svc = SVC(kernel=\"linear\")\n",
    "    svc.fit(X_train, y_train)\n",
    "    return svc\n",
    "\n",
    "\n",
    "@ct.electron\n",
    "def train_qsvc(X_train, y_train, fm):\n",
    "    feature_map = fm\n",
    "    backend = QuantumInstance(\n",
    "        BasicAer.get_backend(\"qasm_simulator\"), shots=16, seed_simulator=seed, seed_transpiler=seed\n",
    "    )\n",
    "    kernel = QuantumKernel(feature_map=feature_map, quantum_instance=backend)\n",
    "    qsvc = SVC(kernel=kernel.evaluate)\n",
    "    qsvc.fit(X_train, y_train)\n",
    "    return qsvc\n"
   ]
  }
 ],
 "metadata": {
  "kernelspec": {
   "display_name": "Python 3 (ipykernel)",
   "language": "python",
   "name": "python3"
  },
  "language_info": {
   "codemirror_mode": {
    "name": "ipython",
    "version": 3
   },
   "file_extension": ".py",
   "mimetype": "text/x-python",
   "name": "python",
   "nbconvert_exporter": "python",
   "pygments_lexer": "ipython3",
   "version": "3.9.12"
  }
 },
 "nbformat": 4,
 "nbformat_minor": 5
}
