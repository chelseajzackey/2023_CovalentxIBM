{
 "cells": [
  {
   "cell_type": "markdown",
   "id": "060d0d87",
   "metadata": {},
   "source": [
    "# Quantum Kernel Methods for Classification using Covalent\n",
    "\n",
    "Using quantum kernels for spam detection.\n",
    "\n",
    "#### Referenced Tutorials\n",
    "1. https://covalent.readthedocs.io/en/latest/tutorials/1_QuantumMachineLearning/classical_quantum_svm/source.html\n",
    "2. https://covalent.readthedocs.io/en/latest/tutorials/1_QuantumMachineLearning/quantum_embedding_kernel/source.html"
   ]
  },
  {
   "cell_type": "code",
   "execution_count": 1,
   "id": "0cf003e8",
   "metadata": {
    "scrolled": true
   },
   "outputs": [
    {
     "name": "stdout",
     "output_type": "stream",
     "text": [
      "Requirement already satisfied: qiskit==0.40.0 in /opt/anaconda3/lib/python3.9/site-packages (0.40.0)\n",
      "Requirement already satisfied: qiskit-terra==0.23.0 in /opt/anaconda3/lib/python3.9/site-packages (from qiskit==0.40.0) (0.23.0)\n",
      "Requirement already satisfied: qiskit-ibmq-provider==0.19.2 in /opt/anaconda3/lib/python3.9/site-packages (from qiskit==0.40.0) (0.19.2)\n",
      "Requirement already satisfied: qiskit-aer==0.11.2 in /opt/anaconda3/lib/python3.9/site-packages (from qiskit==0.40.0) (0.11.2)\n",
      "Requirement already satisfied: scipy>=1.0 in /opt/anaconda3/lib/python3.9/site-packages (from qiskit-aer==0.11.2->qiskit==0.40.0) (1.7.3)\n",
      "Requirement already satisfied: numpy>=1.16.3 in /opt/anaconda3/lib/python3.9/site-packages (from qiskit-aer==0.11.2->qiskit==0.40.0) (1.21.5)\n",
      "Requirement already satisfied: requests>=2.19 in /opt/anaconda3/lib/python3.9/site-packages (from qiskit-ibmq-provider==0.19.2->qiskit==0.40.0) (2.27.1)\n",
      "Requirement already satisfied: websocket-client>=1.0.1 in /opt/anaconda3/lib/python3.9/site-packages (from qiskit-ibmq-provider==0.19.2->qiskit==0.40.0) (1.4.1)\n",
      "Requirement already satisfied: websockets>=10.0 in /opt/anaconda3/lib/python3.9/site-packages (from qiskit-ibmq-provider==0.19.2->qiskit==0.40.0) (10.3)\n",
      "Requirement already satisfied: requests-ntlm>=1.1.0 in /opt/anaconda3/lib/python3.9/site-packages (from qiskit-ibmq-provider==0.19.2->qiskit==0.40.0) (1.1.0)\n",
      "Requirement already satisfied: urllib3>=1.21.1 in /opt/anaconda3/lib/python3.9/site-packages (from qiskit-ibmq-provider==0.19.2->qiskit==0.40.0) (1.26.9)\n",
      "Requirement already satisfied: python-dateutil>=2.8.0 in /opt/anaconda3/lib/python3.9/site-packages (from qiskit-ibmq-provider==0.19.2->qiskit==0.40.0) (2.8.2)\n",
      "Requirement already satisfied: dill>=0.3 in /opt/anaconda3/lib/python3.9/site-packages (from qiskit-terra==0.23.0->qiskit==0.40.0) (0.3.5.1)\n",
      "Requirement already satisfied: sympy>=1.3 in /opt/anaconda3/lib/python3.9/site-packages (from qiskit-terra==0.23.0->qiskit==0.40.0) (1.10.1)\n",
      "Requirement already satisfied: psutil>=5 in /opt/anaconda3/lib/python3.9/site-packages (from qiskit-terra==0.23.0->qiskit==0.40.0) (5.9.2)\n",
      "Requirement already satisfied: ply>=3.10 in /opt/anaconda3/lib/python3.9/site-packages (from qiskit-terra==0.23.0->qiskit==0.40.0) (3.11)\n",
      "Requirement already satisfied: stevedore>=3.0.0 in /opt/anaconda3/lib/python3.9/site-packages (from qiskit-terra==0.23.0->qiskit==0.40.0) (4.0.0)\n",
      "Requirement already satisfied: rustworkx>=0.12.0 in /opt/anaconda3/lib/python3.9/site-packages (from qiskit-terra==0.23.0->qiskit==0.40.0) (0.12.1)\n",
      "Requirement already satisfied: symengine>=0.9 in /opt/anaconda3/lib/python3.9/site-packages (from qiskit-terra==0.23.0->qiskit==0.40.0) (0.9.2)\n",
      "Requirement already satisfied: six>=1.5 in /opt/anaconda3/lib/python3.9/site-packages (from python-dateutil>=2.8.0->qiskit-ibmq-provider==0.19.2->qiskit==0.40.0) (1.16.0)\n",
      "Requirement already satisfied: charset-normalizer~=2.0.0 in /opt/anaconda3/lib/python3.9/site-packages (from requests>=2.19->qiskit-ibmq-provider==0.19.2->qiskit==0.40.0) (2.0.4)\n",
      "Requirement already satisfied: certifi>=2017.4.17 in /opt/anaconda3/lib/python3.9/site-packages (from requests>=2.19->qiskit-ibmq-provider==0.19.2->qiskit==0.40.0) (2021.10.8)\n",
      "Requirement already satisfied: idna<4,>=2.5 in /opt/anaconda3/lib/python3.9/site-packages (from requests>=2.19->qiskit-ibmq-provider==0.19.2->qiskit==0.40.0) (3.3)\n",
      "Requirement already satisfied: ntlm-auth>=1.0.2 in /opt/anaconda3/lib/python3.9/site-packages (from requests-ntlm>=1.1.0->qiskit-ibmq-provider==0.19.2->qiskit==0.40.0) (1.5.0)\n",
      "Requirement already satisfied: cryptography>=1.3 in /opt/anaconda3/lib/python3.9/site-packages (from requests-ntlm>=1.1.0->qiskit-ibmq-provider==0.19.2->qiskit==0.40.0) (3.4.8)\n",
      "Requirement already satisfied: cffi>=1.12 in /opt/anaconda3/lib/python3.9/site-packages (from cryptography>=1.3->requests-ntlm>=1.1.0->qiskit-ibmq-provider==0.19.2->qiskit==0.40.0) (1.15.0)\n",
      "Requirement already satisfied: pycparser in /opt/anaconda3/lib/python3.9/site-packages (from cffi>=1.12->cryptography>=1.3->requests-ntlm>=1.1.0->qiskit-ibmq-provider==0.19.2->qiskit==0.40.0) (2.21)\n",
      "Requirement already satisfied: pbr!=2.1.0,>=2.0.0 in /opt/anaconda3/lib/python3.9/site-packages (from stevedore>=3.0.0->qiskit-terra==0.23.0->qiskit==0.40.0) (5.10.0)\n",
      "Requirement already satisfied: mpmath>=0.19 in /opt/anaconda3/lib/python3.9/site-packages (from sympy>=1.3->qiskit-terra==0.23.0->qiskit==0.40.0) (1.2.1)\n",
      "Collecting qiskit-ibm-runtime\n",
      "  Downloading qiskit_ibm_runtime-0.8.0-py3-none-any.whl (190 kB)\n",
      "\u001b[K     |████████████████████████████████| 190 kB 1.4 MB/s eta 0:00:01\n",
      "\u001b[?25hCollecting websocket-client<=1.3.3\n",
      "  Downloading websocket_client-1.3.3-py3-none-any.whl (54 kB)\n",
      "\u001b[K     |████████████████████████████████| 54 kB 5.3 MB/s eta 0:00:011\n",
      "\u001b[?25hRequirement already satisfied: urllib3>=1.21.1 in /opt/anaconda3/lib/python3.9/site-packages (from qiskit-ibm-runtime) (1.26.9)\n",
      "Collecting ibm-platform-services>=0.22.6\n",
      "  Downloading ibm-platform-services-0.31.0.tar.gz (245 kB)\n",
      "\u001b[K     |████████████████████████████████| 245 kB 5.5 MB/s eta 0:00:01\n",
      "\u001b[?25h  Installing build dependencies ... \u001b[?25ldone\n",
      "\u001b[?25h  Getting requirements to build wheel ... \u001b[?25ldone\n",
      "\u001b[?25h    Preparing wheel metadata ... \u001b[?25ldone\n",
      "\u001b[?25hRequirement already satisfied: numpy>=1.13 in /opt/anaconda3/lib/python3.9/site-packages (from qiskit-ibm-runtime) (1.21.5)\n",
      "Requirement already satisfied: qiskit-terra>=0.22 in /opt/anaconda3/lib/python3.9/site-packages (from qiskit-ibm-runtime) (0.23.0)\n",
      "Requirement already satisfied: requests-ntlm>=1.1.0 in /opt/anaconda3/lib/python3.9/site-packages (from qiskit-ibm-runtime) (1.1.0)\n",
      "Requirement already satisfied: typing-extensions>=4.0.0 in /opt/anaconda3/lib/python3.9/site-packages (from qiskit-ibm-runtime) (4.1.1)\n",
      "Requirement already satisfied: python-dateutil>=2.8.0 in /opt/anaconda3/lib/python3.9/site-packages (from qiskit-ibm-runtime) (2.8.2)\n",
      "Requirement already satisfied: requests>=2.19 in /opt/anaconda3/lib/python3.9/site-packages (from qiskit-ibm-runtime) (2.27.1)\n",
      "Collecting ibm-cloud-sdk-core<4.0.0,>=3.16.0\n",
      "  Downloading ibm-cloud-sdk-core-3.16.1.tar.gz (50 kB)\n",
      "\u001b[K     |████████████████████████████████| 50 kB 5.2 MB/s eta 0:00:01\n",
      "\u001b[?25h  Installing build dependencies ... \u001b[?25ldone\n",
      "\u001b[?25h  Getting requirements to build wheel ... \u001b[?25ldone\n",
      "\u001b[?25h    Preparing wheel metadata ... \u001b[?25ldone\n",
      "\u001b[?25hCollecting PyJWT<3.0.0,>=2.4.0\n",
      "  Downloading PyJWT-2.6.0-py3-none-any.whl (20 kB)\n",
      "Requirement already satisfied: six>=1.5 in /opt/anaconda3/lib/python3.9/site-packages (from python-dateutil>=2.8.0->qiskit-ibm-runtime) (1.16.0)\n",
      "Requirement already satisfied: dill>=0.3 in /opt/anaconda3/lib/python3.9/site-packages (from qiskit-terra>=0.22->qiskit-ibm-runtime) (0.3.5.1)\n",
      "Requirement already satisfied: psutil>=5 in /opt/anaconda3/lib/python3.9/site-packages (from qiskit-terra>=0.22->qiskit-ibm-runtime) (5.9.2)\n",
      "Requirement already satisfied: scipy>=1.5 in /opt/anaconda3/lib/python3.9/site-packages (from qiskit-terra>=0.22->qiskit-ibm-runtime) (1.7.3)\n",
      "Requirement already satisfied: stevedore>=3.0.0 in /opt/anaconda3/lib/python3.9/site-packages (from qiskit-terra>=0.22->qiskit-ibm-runtime) (4.0.0)\n",
      "Requirement already satisfied: ply>=3.10 in /opt/anaconda3/lib/python3.9/site-packages (from qiskit-terra>=0.22->qiskit-ibm-runtime) (3.11)\n",
      "Requirement already satisfied: symengine>=0.9 in /opt/anaconda3/lib/python3.9/site-packages (from qiskit-terra>=0.22->qiskit-ibm-runtime) (0.9.2)\n",
      "Requirement already satisfied: rustworkx>=0.12.0 in /opt/anaconda3/lib/python3.9/site-packages (from qiskit-terra>=0.22->qiskit-ibm-runtime) (0.12.1)\n",
      "Requirement already satisfied: sympy>=1.3 in /opt/anaconda3/lib/python3.9/site-packages (from qiskit-terra>=0.22->qiskit-ibm-runtime) (1.10.1)\n",
      "Requirement already satisfied: idna<4,>=2.5 in /opt/anaconda3/lib/python3.9/site-packages (from requests>=2.19->qiskit-ibm-runtime) (3.3)\n",
      "Requirement already satisfied: charset-normalizer~=2.0.0 in /opt/anaconda3/lib/python3.9/site-packages (from requests>=2.19->qiskit-ibm-runtime) (2.0.4)\n",
      "Requirement already satisfied: certifi>=2017.4.17 in /opt/anaconda3/lib/python3.9/site-packages (from requests>=2.19->qiskit-ibm-runtime) (2021.10.8)\n",
      "Requirement already satisfied: cryptography>=1.3 in /opt/anaconda3/lib/python3.9/site-packages (from requests-ntlm>=1.1.0->qiskit-ibm-runtime) (3.4.8)\n",
      "Requirement already satisfied: ntlm-auth>=1.0.2 in /opt/anaconda3/lib/python3.9/site-packages (from requests-ntlm>=1.1.0->qiskit-ibm-runtime) (1.5.0)\n",
      "Requirement already satisfied: cffi>=1.12 in /opt/anaconda3/lib/python3.9/site-packages (from cryptography>=1.3->requests-ntlm>=1.1.0->qiskit-ibm-runtime) (1.15.0)\n",
      "Requirement already satisfied: pycparser in /opt/anaconda3/lib/python3.9/site-packages (from cffi>=1.12->cryptography>=1.3->requests-ntlm>=1.1.0->qiskit-ibm-runtime) (2.21)\n"
     ]
    },
    {
     "name": "stdout",
     "output_type": "stream",
     "text": [
      "Requirement already satisfied: pbr!=2.1.0,>=2.0.0 in /opt/anaconda3/lib/python3.9/site-packages (from stevedore>=3.0.0->qiskit-terra>=0.22->qiskit-ibm-runtime) (5.10.0)\n",
      "Requirement already satisfied: mpmath>=0.19 in /opt/anaconda3/lib/python3.9/site-packages (from sympy>=1.3->qiskit-terra>=0.22->qiskit-ibm-runtime) (1.2.1)\n",
      "Building wheels for collected packages: ibm-platform-services, ibm-cloud-sdk-core\n",
      "  Building wheel for ibm-platform-services (PEP 517) ... \u001b[?25ldone\n",
      "\u001b[?25h  Created wheel for ibm-platform-services: filename=ibm_platform_services-0.31.0-py3-none-any.whl size=260889 sha256=eabdfdb070b640948ff2119a2fa452264c060dcc2d50f86c519ecb5167e9ff58\n",
      "  Stored in directory: /Users/chelseazackey/Library/Caches/pip/wheels/8d/f0/64/3e6610367141305ba4af5eecaa37ba370a79b17329634949c3\n",
      "  Building wheel for ibm-cloud-sdk-core (PEP 517) ... \u001b[?25ldone\n",
      "\u001b[?25h  Created wheel for ibm-cloud-sdk-core: filename=ibm_cloud_sdk_core-3.16.1-py3-none-any.whl size=83552 sha256=bcf45db5e7ae797691058910bbc3ed4ef1d968663ee8f50d2b196f94a60ec5df\n",
      "  Stored in directory: /Users/chelseazackey/Library/Caches/pip/wheels/24/cc/d4/29b1f658ed23b2c6a3d5f4ade8254b5d11d8a921f6c36b8485\n",
      "Successfully built ibm-platform-services ibm-cloud-sdk-core\n",
      "Installing collected packages: PyJWT, ibm-cloud-sdk-core, websocket-client, ibm-platform-services, qiskit-ibm-runtime\n",
      "  Attempting uninstall: PyJWT\n",
      "    Found existing installation: PyJWT 2.1.0\n",
      "    Uninstalling PyJWT-2.1.0:\n",
      "      Successfully uninstalled PyJWT-2.1.0\n",
      "  Attempting uninstall: websocket-client\n",
      "    Found existing installation: websocket-client 1.4.1\n",
      "    Uninstalling websocket-client-1.4.1:\n",
      "      Successfully uninstalled websocket-client-1.4.1\n",
      "Successfully installed PyJWT-2.6.0 ibm-cloud-sdk-core-3.16.1 ibm-platform-services-0.31.0 qiskit-ibm-runtime-0.8.0 websocket-client-1.3.3\n"
     ]
    }
   ],
   "source": [
    "# ! pip install qiskit==0.40.0\n",
    "# ! pip install qiskit-ibm-runtime"
   ]
  },
  {
   "cell_type": "code",
   "execution_count": 3,
   "id": "5a5b0e43",
   "metadata": {},
   "outputs": [],
   "source": [
    "import os\n",
    "import pandas as pd\n",
    "from process_data import read_data\n",
    "\n",
    "# Import Workflow Manager (Covalent)\n",
    "import covalent as ct\n",
    "\n",
    "# Import plotting library\n",
    "import matplotlib.pyplot as plt\n",
    "\n",
    "# Set global plot background color\n",
    "plt.rcParams[\"figure.facecolor\"] = \"w\"\n",
    "\n",
    "# Import for SVM classifier\n",
    "from sklearn.svm import SVC\n",
    "\n",
    "# Imports for dataset and model selection\n",
    "from sklearn import datasets\n",
    "from sklearn.model_selection import train_test_split\n",
    "from sklearn.metrics import ConfusionMatrixDisplay, confusion_matrix\n",
    "\n",
    "# Imports for QSVC classifier\n",
    "from qiskit import BasicAer\n",
    "from qiskit.circuit.library import ZZFeatureMap\n",
    "from qiskit.utils import QuantumInstance, algorithm_globals\n",
    "from qiskit_machine_learning.kernels import QuantumKernel\n",
    "from qiskit_ibm_runtime import Estimator, QiskitRuntimeService, Session\n",
    "\n",
    "# Set the random seed for QSVC\n",
    "seed = 12345\n",
    "algorithm_globals.random_seed = seed\n",
    "\n",
    "# token to access IBM Quantum compute resources\n",
    "IBM_QUANTUM_TOKEN=\"123456789qwertyuiopzxcvbnmasdfghjkl\""
   ]
  },
  {
   "cell_type": "code",
   "execution_count": 19,
   "id": "ec4ed369",
   "metadata": {
    "scrolled": true
   },
   "outputs": [],
   "source": [
    "X, y, _ = read_data(\"./data/spambase.csv\")"
   ]
  },
  {
   "cell_type": "code",
   "execution_count": 20,
   "id": "e57d04af",
   "metadata": {},
   "outputs": [
    {
     "data": {
      "text/plain": [
       "4601"
      ]
     },
     "execution_count": 20,
     "metadata": {},
     "output_type": "execute_result"
    }
   ],
   "source": [
    "len(X)"
   ]
  },
  {
   "cell_type": "code",
   "execution_count": 35,
   "id": "55a9796a",
   "metadata": {},
   "outputs": [],
   "source": [
    "# Ancillary functions for SVM classifiers\n",
    "#@ct.electron\n",
    "def get_data():\n",
    "    X, y, _ = read_data(\"./data/spambase.csv\")\n",
    "    return X[::46], y[::46]\n",
    "\n",
    "\n",
    "#@ct.electron\n",
    "def split_train_test(X, y):\n",
    "    X_train, X_test, y_train, y_test = train_test_split(X, y, test_size=0.25, random_state=0)\n",
    "    return X_train, X_test, y_train, y_test\n",
    "\n",
    "\n",
    "#@ct.electron\n",
    "def train_svc(X_train, y_train):\n",
    "    svc = SVC(kernel=\"linear\")\n",
    "    svc.fit(X_train, y_train)\n",
    "    return svc\n",
    "\n",
    "\n",
    "#@ct.electron\n",
    "# def define_backend():\n",
    "#     QiskitRuntimeService.save_account(channel=\"ibm_quantum\",\n",
    "#                                       token=IBM_QUANTUM_TOKEN,\n",
    "#                                       instance=\"ibm-q-community/mit-hackathon/main\",\n",
    "#                                       overwrite=True)\n",
    "#     return Session(service=QiskitRuntimeService(), backend=\"ibm_nairobi\")\n",
    "\n",
    "#@ct.electron\n",
    "def train_qsvc(X_train, y_train):\n",
    "    feature_map = ZZFeatureMap(5)\n",
    "    backend = QuantumInstance(\n",
    "        BasicAer.get_backend(\"qasm_simulator\"), shots=100, seed_simulator=seed, seed_transpiler=seed\n",
    "    )\n",
    "    kernel = QuantumKernel(feature_map=feature_map, quantum_instance=backend)\n",
    "    qsvc = SVC(kernel=kernel.evaluate)\n",
    "    qsvc.fit(X_train, y_train)\n",
    "    return qsvc\n",
    "\n",
    "# Main Workflow\n",
    "#@ct.lattice\n",
    "def workflow():\n",
    "    X, y = get_data()\n",
    "    X_train, X_test, y_train, y_test = split_train_test(X=X, y=y)\n",
    "    fm = ZZFeatureMap(5)\n",
    "    svc_model = train_svc(X_train=X_train, y_train=y_train)\n",
    "    qsvc_model = train_qsvc(X_train=X_train, y_train=y_train)\n",
    "    return X_test, y_test, svc_model, qsvc_model\n"
   ]
  },
  {
   "cell_type": "code",
   "execution_count": 36,
   "id": "9f5275f7",
   "metadata": {
    "scrolled": true
   },
   "outputs": [
    {
     "name": "stdout",
     "output_type": "stream",
     "text": [
      "(array([[-1.11047821,  1.54162791, -0.79911776,  1.05143622, -0.30902695],\n",
      "       [ 0.91904076, -3.22791232,  4.24116639, -4.5497667 , -0.56137038],\n",
      "       [-1.68094776,  4.64080998,  2.72112044,  0.42682739,  0.13919767],\n",
      "       [-0.16072759, -0.59601584,  0.09872066, -0.95642731,  0.11598331],\n",
      "       [-0.70327679, -0.21278   , -0.67689074, -0.29412668, -0.91722991],\n",
      "       [-0.65811174, -0.84477556, -1.02756743,  0.1755171 , -0.77041541],\n",
      "       [-0.51842056, -0.18202164, -0.4286933 ,  0.64057532,  1.04100311],\n",
      "       [ 1.83076948, -0.90969209,  0.71995604, -1.69720432,  1.55559348],\n",
      "       [ 6.56870291, -0.37088433,  1.12686024, -0.84621214,  0.54962348],\n",
      "       [-0.30436621, -0.89214201,  0.24876401,  0.28780887,  0.09553802],\n",
      "       [-0.62368521, -0.72017902, -0.6351585 ,  0.43141457,  0.17834272],\n",
      "       [ 1.3022235 , -0.17143748, -0.32655803,  0.16129569,  0.14724321],\n",
      "       [-0.11447391, -2.22274951, -0.20803822,  1.20224195, -0.89635204],\n",
      "       [-0.62306604,  0.0172412 , -0.07036098,  0.25244059, -0.96290132],\n",
      "       [-0.83464116,  0.40047908, -0.50827612,  0.1609237 , -0.06259129],\n",
      "       [-0.61722327, -0.02217878,  0.2661316 ,  0.2923396 , -0.03142188],\n",
      "       [-0.8804099 ,  0.63451427, -1.1320497 , -0.02754028, -0.2923148 ],\n",
      "       [-1.48098145,  3.58254475, -1.97094397, -1.75692792, -1.12995964],\n",
      "       [-0.79391232,  0.84030868,  0.89876322,  0.37535244,  0.81767539],\n",
      "       [-1.00278472,  0.90568073, -1.20170081, -0.18565699, -0.33703257],\n",
      "       [ 0.24557808, -1.09960911,  0.55639444,  0.53242033,  0.51856426],\n",
      "       [ 0.45231048, -0.52673785,  0.19977526,  0.0837465 ,  0.34171325],\n",
      "       [-0.19137909, -0.21122085, -1.06359055,  0.29989867,  0.15376005],\n",
      "       [ 2.919887  , -1.39774619,  0.97636737, -2.80695075, -0.70193774],\n",
      "       [-0.34603731, -1.51912349, -0.07925929,  0.63645052, -0.34657504],\n",
      "       [ 1.86970797, -1.36060761,  0.16997345,  0.95912961,  0.06607703]]), array([ 1, -1,  1, -1, -1, -1,  1, -1, -1, -1, -1, -1, -1,  1,  1,  1,  1,\n",
      "        1,  1,  1, -1, -1,  1, -1, -1, -1]), SVC(kernel='linear'), SVC(kernel=<bound method QuantumKernel.evaluate of <qiskit_machine_learning.kernels.quantum_kernel.QuantumKernel object at 0x7fba5df97340>>))\n"
     ]
    }
   ],
   "source": [
    "# Dispatch workflow and obtain results\n",
    "#dispatch_id = ct.dispatch(workflow)()\n",
    "#result = ct.get_result(dispatch_id=dispatch_id, wait=True)\n",
    "result = workflow()\n",
    "print(result)"
   ]
  },
  {
   "cell_type": "code",
   "execution_count": 37,
   "id": "3c8227b9",
   "metadata": {},
   "outputs": [],
   "source": [
    "X_test, y_test, svc_model, qsvc_model = result"
   ]
  },
  {
   "cell_type": "code",
   "execution_count": 38,
   "id": "c2805847",
   "metadata": {},
   "outputs": [
    {
     "data": {
      "text/plain": [
       "array([-1])"
      ]
     },
     "execution_count": 38,
     "metadata": {},
     "output_type": "execute_result"
    }
   ],
   "source": [
    "X = [-0.61722345, -0.02207496,  0.26470189,  0.32968003, -0.1587705]\n",
    "qsvc_model.predict(X)\n"
   ]
  },
  {
   "cell_type": "code",
   "execution_count": 39,
   "id": "0e41084d",
   "metadata": {},
   "outputs": [
    {
     "data": {
      "text/plain": [
       "Text(0.5, 1.0, 'SVC confusion matrix plot')"
      ]
     },
     "execution_count": 39,
     "metadata": {},
     "output_type": "execute_result"
    },
    {
     "data": {
      "image/png": "[encoded data removed]",
      "text/plain": [
       "<Figure size 640x480 with 2 Axes>"
      ]
     },
     "metadata": {},
     "output_type": "display_data"
    }
   ],
   "source": [
    "# Results from SVC\n",
    "svc_cm_plot = ConfusionMatrixDisplay.from_estimator(svc_model, X_test, y_test)\n",
    "svc_cm_plot.ax_.set_title(\"SVC confusion matrix plot\")\n"
   ]
  },
  {
   "cell_type": "code",
   "execution_count": 40,
   "id": "49ea7010",
   "metadata": {},
   "outputs": [
    {
     "data": {
      "text/plain": [
       "Text(0.5, 1.0, 'QSVC confusion matrix plot')"
      ]
     },
     "execution_count": 40,
     "metadata": {},
     "output_type": "execute_result"
    },
    {
     "data": {
      "image/png": "[encoded data removed]",
      "text/plain": [
       "<Figure size 640x480 with 2 Axes>"
      ]
     },
     "metadata": {},
     "output_type": "display_data"
    }
   ],
   "source": [
    "# Results from QSVC\n",
    "qsvc_cm_plot = ConfusionMatrixDisplay.from_estimator(qsvc_model, X_test, y_test)\n",
    "qsvc_cm_plot.ax_.set_title(\"QSVC confusion matrix plot\")\n"
   ]
  },
  {
   "cell_type": "code",
   "execution_count": null,
   "id": "7df150fb",
   "metadata": {},
   "outputs": [],
   "source": []
  }
 ],
 "metadata": {
  "kernelspec": {
   "display_name": "Python 3 (ipykernel)",
   "language": "python",
   "name": "python3"
  },
  "language_info": {
   "codemirror_mode": {
    "name": "ipython",
    "version": 3
   },
   "file_extension": ".py",
   "mimetype": "text/x-python",
   "name": "python",
   "nbconvert_exporter": "python",
   "pygments_lexer": "ipython3",
   "version": "3.10.9"
  }
 },
 "nbformat": 4,
 "nbformat_minor": 5
}
