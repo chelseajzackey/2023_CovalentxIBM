{
 "cells": [
  {
   "cell_type": "markdown",
   "id": "060d0d87",
   "metadata": {},
   "source": [
    "# Quantum Kernel Methods for Classification using Covalent\n",
    "\n",
    "Using quantum kernels for spam detection.\n",
    "\n",
    "#### Referenced Tutorials\n",
    "1. https://covalent.readthedocs.io/en/latest/tutorials/1_QuantumMachineLearning/classical_quantum_svm/source.html\n",
    "2. https://covalent.readthedocs.io/en/latest/tutorials/1_QuantumMachineLearning/quantum_embedding_kernel/source.html"
   ]
  },
  {
   "cell_type": "code",
   "execution_count": 17,
   "id": "5a5b0e43",
   "metadata": {},
   "outputs": [],
   "source": [
    "import os\n",
    "import pandas as pd\n",
    "import numpy as np\n",
    "from process_data import read_data\n",
    "\n",
    "# Import Workflow Manager (Covalent)\n",
    "import covalent as ct\n",
    "\n",
    "# Import plotting library\n",
    "import matplotlib.pyplot as plt\n",
    "\n",
    "# Set global plot background color\n",
    "plt.rcParams[\"figure.facecolor\"] = \"w\"\n",
    "\n",
    "# Import for SVM classifier\n",
    "from sklearn.svm import SVC\n",
    "\n",
    "# Imports for dataset and model selection\n",
    "from sklearn import datasets\n",
    "from sklearn.model_selection import train_test_split\n",
    "from sklearn.metrics import ConfusionMatrixDisplay, confusion_matrix\n",
    "\n",
    "# Imports for QSVC classifier\n",
    "from qiskit import BasicAer\n",
    "from qiskit.circuit.library import ZZFeatureMap\n",
    "from qiskit.utils import QuantumInstance, algorithm_globals\n",
    "from qiskit_machine_learning.kernels import QuantumKernel\n",
    "from qiskit_ibm_runtime import Estimator, QiskitRuntimeService, Session\n",
    "\n",
    "# Set the random seed for QSVC\n",
    "seed = 12345\n",
    "algorithm_globals.random_seed = seed\n",
    "\n",
    "# token to access IBM Quantum compute resources\n",
    "IBM_QUANTUM_TOKEN=\"123456789qwertyuiopzxcvbnmasdfghjkl\""
   ]
  },
  {
   "cell_type": "code",
   "execution_count": 21,
   "id": "55a9796a",
   "metadata": {},
   "outputs": [],
   "source": [
    "# Ancillary functions for SVM classifiers\n",
    "#@ct.electron\n",
    "def get_data(nsize=100):\n",
    "    X, y = read_data(\"./data/spambase.csv\")\n",
    "    rand = np.random.permutation(len(y))\n",
    "    X = X[rand]\n",
    "    y = y[rand]\n",
    "    return X[:nsize], y[:nsize]\n",
    "\n",
    "\n",
    "#@ct.electron\n",
    "def split_train_test(X, y):\n",
    "    X_train, X_test, y_train, y_test = train_test_split(X, y, test_size=0.25, random_state=0)\n",
    "    return X_train, X_test, y_train, y_test\n",
    "\n",
    "\n",
    "#@ct.electron\n",
    "def train_svc(X_train, y_train):\n",
    "    svc = SVC(kernel=\"linear\")\n",
    "    svc.fit(X_train, y_train)\n",
    "    return svc\n",
    "\n",
    "\n",
    "#@ct.electron\n",
    "# def define_backend():\n",
    "#     QiskitRuntimeService.save_account(channel=\"ibm_quantum\",\n",
    "#                                       token=IBM_QUANTUM_TOKEN,\n",
    "#                                       instance=\"ibm-q-community/mit-hackathon/main\",\n",
    "#                                       overwrite=True)\n",
    "#     return Session(service=QiskitRuntimeService(), backend=\"ibm_nairobi\")\n",
    "\n",
    "#@ct.electron\n",
    "def train_qsvc(X_train, y_train):\n",
    "    feature_map = ZZFeatureMap(5)\n",
    "    backend = QuantumInstance(\n",
    "        BasicAer.get_backend(\"qasm_simulator\"), shots=100, seed_simulator=seed, seed_transpiler=seed\n",
    "    )\n",
    "    kernel = QuantumKernel(feature_map=feature_map, quantum_instance=backend)\n",
    "    qsvc = SVC(kernel=kernel.evaluate)\n",
    "    qsvc.fit(X_train, y_train)\n",
    "    return qsvc\n",
    "\n",
    "# Main Workflow\n",
    "#@ct.lattice\n",
    "def workflow():\n",
    "    X, y = get_data()\n",
    "    X_train, X_test, y_train, y_test = split_train_test(X=X, y=y)\n",
    "    fm = ZZFeatureMap(5)\n",
    "    svc_model = train_svc(X_train=X_train, y_train=y_train)\n",
    "    qsvc_model = train_qsvc(X_train=X_train, y_train=y_train)\n",
    "    return X_test, y_test, svc_model, qsvc_model\n"
   ]
  },
  {
   "cell_type": "code",
   "execution_count": 22,
   "id": "9f5275f7",
   "metadata": {
    "scrolled": true
   },
   "outputs": [],
   "source": [
    "# Dispatch workflow and obtain results\n",
    "# dispatch_id = ct.dispatch(workflow)()\n",
    "# result = ct.get_result(dispatch_id=dispatch_id, wait=True)\n",
    "result = workflow()"
   ]
  },
  {
   "cell_type": "code",
   "execution_count": 23,
   "id": "3c8227b9",
   "metadata": {},
   "outputs": [],
   "source": [
    "X_test, y_test, svc_model, qsvc_model = result"
   ]
  },
  {
   "cell_type": "code",
   "execution_count": 31,
   "id": "185a8142",
   "metadata": {},
   "outputs": [
    {
     "data": {
      "text/plain": [
       "-0.2"
      ]
     },
     "execution_count": 31,
     "metadata": {},
     "output_type": "execute_result"
    }
   ],
   "source": [
    "np.average(y_test)"
   ]
  },
  {
   "cell_type": "code",
   "execution_count": 24,
   "id": "c2805847",
   "metadata": {},
   "outputs": [
    {
     "data": {
      "text/plain": [
       "array([-1])"
      ]
     },
     "execution_count": 24,
     "metadata": {},
     "output_type": "execute_result"
    }
   ],
   "source": [
    "X = [-0.61722345, -0.02207496,  0.26470189,  0.32968003, -0.1587705]\n",
    "qsvc_model.predict(X)\n"
   ]
  },
  {
   "cell_type": "code",
   "execution_count": 25,
   "id": "0e41084d",
   "metadata": {},
   "outputs": [
    {
     "data": {
      "text/plain": [
       "Text(0.5, 1.0, 'SVC confusion matrix plot')"
      ]
     },
     "execution_count": 25,
     "metadata": {},
     "output_type": "execute_result"
    },
    {
     "data": {
      "image/png": "[encoded data removed]",
      "text/plain": [
       "<Figure size 640x480 with 2 Axes>"
      ]
     },
     "metadata": {},
     "output_type": "display_data"
    }
   ],
   "source": [
    "# Results from SVC\n",
    "svc_cm_plot = ConfusionMatrixDisplay.from_estimator(svc_model, X_test, y_test)\n",
    "svc_cm_plot.ax_.set_title(\"SVC confusion matrix plot\")\n"
   ]
  },
  {
   "cell_type": "code",
   "execution_count": 26,
   "id": "49ea7010",
   "metadata": {},
   "outputs": [
    {
     "data": {
      "text/plain": [
       "Text(0.5, 1.0, 'QSVC confusion matrix plot')"
      ]
     },
     "execution_count": 26,
     "metadata": {},
     "output_type": "execute_result"
    },
    {
     "data": {
      "image/png": "[encoded data removed]",
      "text/plain": [
       "<Figure size 640x480 with 2 Axes>"
      ]
     },
     "metadata": {},
     "output_type": "display_data"
    }
   ],
   "source": [
    "# Results from QSVC\n",
    "qsvc_cm_plot = ConfusionMatrixDisplay.from_estimator(qsvc_model, X_test, y_test)\n",
    "qsvc_cm_plot.ax_.set_title(\"QSVC confusion matrix plot\")\n"
   ]
  }
 ],
 "metadata": {
  "kernelspec": {
   "display_name": "Python 3 (ipykernel)",
   "language": "python",
   "name": "python3"
  },
  "language_info": {
   "codemirror_mode": {
    "name": "ipython",
    "version": 3
   },
   "file_extension": ".py",
   "mimetype": "text/x-python",
   "name": "python",
   "nbconvert_exporter": "python",
   "pygments_lexer": "ipython3",
   "version": "3.10.9"
  }
 },
 "nbformat": 4,
 "nbformat_minor": 5
}
